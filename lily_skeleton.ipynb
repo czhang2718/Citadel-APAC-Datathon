{
 "cells": [
  {
   "cell_type": "markdown",
   "metadata": {},
   "source": [
    "Importing packages & reading data"
   ]
  },
  {
   "cell_type": "code",
   "execution_count": null,
   "metadata": {},
   "outputs": [],
   "source": [
    "import pandas as pd\n",
    "import numpy as np\n",
    "import matplotlib.pyplot as plt \n",
    "\n",
    "from sklearn import preprocessing\n",
    "from sklearn.linear_model import LinearRegression\n",
    "from sklearn.linear_model import LogisticRegression\n",
    "from sklearn.tree import DecisionTreeClassifier\n",
    "from sklearn import tree\n",
    "from sklearn.model_selection import train_test_split\n",
    "from sklearn import metricsfrom sklearn.metrics import accuracy_score\n",
    "from sklearn.metrics import mean_squared_error, mean_absolute_error, r2_score, classification_report\n",
    "from sklearn.metrics import accuracy_score\n",
    "plt.rc(\"font\", size=14)\n",
    "\n",
    "import seaborn as sns\n",
    "sns.set(style=\"white\")\n",
    "sns.set(style=\"whitegrid\", color_codes=True)\n",
    "\n",
    "#READING DATA\n",
    "data = pd.read_csv('data/College.csv',na_values=['?'],index_col=0)\n",
    "data = pd.read_csv('data/College.csv',na_values=['?'],index_col='names')"
   ]
  },
  {
   "cell_type": "markdown",
   "metadata": {},
   "source": [
    "High-level looking at data"
   ]
  },
  {
   "cell_type": "code",
   "execution_count": null,
   "metadata": {},
   "outputs": [],
   "source": [
    "#SCATTER MATRIX\n",
    "pd.plotting.scatter_matrix(data[['X1','X2','X3']])\n",
    "\n",
    "#CORRELATION TABLE\n",
    "data.corr(numeric_only=True)\n",
    "\n",
    "#COUNTS PLOT\n",
    "data['y'].value_counts()\n",
    "sns.countplot(x='y',data=data)\n",
    "count_no_sub = len(data[data['y']==0])\n",
    "count_sub = len(data[data['y']==1])\n",
    "pct_of_no_sub = count_no_sub/(count_no_sub+count_sub)\n",
    "\n",
    "#GROUPING NUMERICAL\n",
    "data.groupby(\"age\").mean()\n",
    "\n",
    "#FREQUENCY PLOT\n",
    "pd.crosstab(data.job,data.y).plot(kind='bar')\n",
    "plt.title('Purchase Frequency for Job Title')"
   ]
  },
  {
   "cell_type": "markdown",
   "metadata": {},
   "source": [
    "Manipulating & Preparing Dataset"
   ]
  },
  {
   "cell_type": "code",
   "execution_count": null,
   "metadata": {},
   "outputs": [],
   "source": [
    "#JOIN DATA BY ADDING MORE COLUMNS\n",
    "result = pd.concat([data1,data2],axis=1)\n",
    "\n",
    "#BINNING DATA\n",
    "data['binned'] = pd.cut(data['feature'],bins=[0,50,100],labels=['No','Yes'])\n",
    "\n",
    "#REPLACING STUFF\n",
    "data['education']=np.where(data['education'] =='basic.4y', 'Basic', data['education'])\n",
    "\n",
    "#DROPPING DATA\n",
    "data.drop(['droptitle'], axis = 1)\n",
    "\n",
    "#DUMMY\n",
    "dummy_columns = pd.get_dummies(data[['A','B','C']]) #A, B, C are categorical, become columns of true/false\n",
    "#add the above to the existing numerical datasets"
   ]
  },
  {
   "cell_type": "markdown",
   "metadata": {},
   "source": [
    "Linear Regression"
   ]
  },
  {
   "cell_type": "code",
   "execution_count": null,
   "metadata": {},
   "outputs": [],
   "source": [
    "feature_cols = ['feature1','feature2','feature3']\n",
    "X = data[feature_cols]\n",
    "Y = data['column3']\n",
    "\n",
    "X_train, X_test, Y_train, Y_test = train_test_split(X, Y, test_size=0.25)\n",
    "\n",
    "linreg = LinearRegression()\n",
    "linreg.fit(X_train,Y_train)\n",
    "Y_pred = linreg.predict(X_test)\n",
    "\n",
    "intercept = linreg.intercept_\n",
    "coeff = linreg.coef_\n",
    "\n",
    "linreg.score(X,Y) #Single Variable\n",
    "r2_score(Y_test,Y_pred)\n",
    "\n",
    "plt.scatter(data['X'],data['Y'])\n",
    "plt.plot(data['X'],coeff[0]*data['X']+intercept,color='red')"
   ]
  },
  {
   "cell_type": "markdown",
   "metadata": {},
   "source": [
    "Linear Regression with Power Law"
   ]
  },
  {
   "cell_type": "code",
   "execution_count": null,
   "metadata": {},
   "outputs": [],
   "source": [
    "data['logX'] = np.log(data['X'])\n",
    "data['logY'] = np.log(data['Y'])\n",
    "\n",
    "loglinreg = LinearRegression()\n",
    "loglinreg.fit(data[['logX']],data['logY'])\n",
    "exponent = loglinreg.coef_\n",
    "logk = loglinreg.intercept_\n",
    "\n",
    "plt.scatter(data['X'],college['Y'])\n",
    "plt.plot(np.sort(data['X']),np.sort(np.power(data['X'],exponent)*np.exp(logk)))"
   ]
  },
  {
   "cell_type": "markdown",
   "metadata": {},
   "source": [
    "Logistic Regression"
   ]
  },
  {
   "cell_type": "code",
   "execution_count": null,
   "metadata": {},
   "outputs": [],
   "source": [
    "feature_cols = ['feature1','feature2','feature3']\n",
    "X = data[feature_cols]\n",
    "Y = data['column3']\n",
    "\n",
    "X_train, X_test, Y_train, Y_test = train_test_split(X, Y, test_size=0.25)\n",
    "\n",
    "logreg = LogisticRegression(random_state=16)\n",
    "logreg.fit(X_train, Y_train)\n",
    "Y_pred = logreg.predict(X_test)\n",
    "\n",
    "cnf_matrix = metrics.confusion_matrix(Y_test, Y_pred)\n",
    "logreg.score(X_test,Y_test)\n",
    "classification_report(Y_test, Y_pred)"
   ]
  },
  {
   "cell_type": "markdown",
   "metadata": {},
   "source": [
    "Plotting LogReg Results: Confusion Matrix, predicted vs actual final class"
   ]
  },
  {
   "cell_type": "code",
   "execution_count": null,
   "metadata": {},
   "outputs": [],
   "source": [
    "class_names=['A','B'] # name  of classes\n",
    "fig, ax = plt.subplots()\n",
    "tick_marks = np.arange(len(class_names))\n",
    "plt.xticks(tick_marks, class_names)\n",
    "plt.yticks(tick_marks, class_names)\n",
    "\n",
    "sns.heatmap(pd.DataFrame(cnf_matrix), annot=True, cmap=\"Blues_r\" ,fmt='g')\n",
    "ax.xaxis.set_label_position(\"top\")\n",
    "plt.tight_layout()\n",
    "plt.title('Confusion matrix', y=1.1)\n",
    "plt.ylabel('Actual')\n",
    "plt.xlabel('Predicted')"
   ]
  },
  {
   "cell_type": "markdown",
   "metadata": {},
   "source": [
    "Decision Tree Classifier"
   ]
  },
  {
   "cell_type": "code",
   "execution_count": null,
   "metadata": {},
   "outputs": [],
   "source": [
    "X = data.drop(['class'], axis = 1)\n",
    "Y = data['class']\n",
    "X_train, X_test, Y_train, Y_test = train_test_split(X, Y, test_size = 0.2, random_state = 13)\n",
    "\n",
    "treeclass = DecisionTreeClassifier(random_state = 13)\n",
    "treeclass.fit(X_train, Y_train)\n",
    "Y_pred = treeclass.predict(X_test)\n",
    "\n",
    "accuracy = accuracy_score(Y_pred, Y_test)\n",
    "\n",
    "# FEATURE IMPORTANCE\n",
    "sns.barplot(x=data.columns, y=treeclass.feature_importances_)\n",
    "plt.xticks(rotation = 50)\n",
    "plt.show()\n",
    "\n",
    "# VISUALISE TREE\n",
    "fig = plt.figure(figsize = (10, 7))\n",
    "tree.plot_tree(treeclass, feature_names = data.feature_names,class_names = data.target_names, filled = True)\n",
    "plt.show()"
   ]
  }
 ],
 "metadata": {
  "language_info": {
   "name": "python"
  }
 },
 "nbformat": 4,
 "nbformat_minor": 2
}
