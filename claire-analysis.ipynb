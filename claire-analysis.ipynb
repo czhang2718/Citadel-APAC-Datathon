{
 "cells": [
  {
   "cell_type": "code",
   "execution_count": 1,
   "metadata": {},
   "outputs": [],
   "source": [
    "import pandas as pd"
   ]
  },
  {
   "cell_type": "code",
   "execution_count": 7,
   "metadata": {},
   "outputs": [],
   "source": [
    "# analyze match.csv\n",
    "match = pd.read_csv('match.csv')\n",
    "match = match.dropna()\n",
    "match_with_agg = pd.read_csv('match_with_agg.csv')\n",
    "players = pd.read_csv('player.csv')\n",
    "teams = pd.read_csv('team.csv', encoding='latin-1')\n",
    "team_attributes = pd.read_csv('team_attributes.csv')\n",
    "upsets_20 = pd.read_csv('Upsets_20_percent.csv')"
   ]
  },
  {
   "cell_type": "code",
   "execution_count": null,
   "metadata": {},
   "outputs": [],
   "source": [
    "print(match.info())"
   ]
  },
  {
   "cell_type": "code",
   "execution_count": 9,
   "metadata": {},
   "outputs": [
    {
     "name": "stdout",
     "output_type": "stream",
     "text": [
      "      country_id  league_id     season  stage          date  match_id   \n",
      "997            1          1  2012/2013      1  7/28/12 0:00   1223977  \\\n",
      "998            1          1  2012/2013      1  7/28/12 0:00   1223980   \n",
      "999            1          1  2012/2013      1  7/29/12 0:00   1223981   \n",
      "1000           1          1  2012/2013      1  7/28/12 0:00   1223982   \n",
      "1001           1          1  2012/2013      1  7/28/12 0:00   1223983   \n",
      "\n",
      "      home_team_id  away_team_id  home_team_goal  away_team_goal  ...    SJA   \n",
      "997           9993          9994               2               4  ...   2.88  \\\n",
      "998           9998          1773               5               2  ...   4.50   \n",
      "999           9985         10000               0               1  ...   5.50   \n",
      "1000          8203          9986               4               2  ...   6.00   \n",
      "1001          8342          8475               3               1  ...  11.00   \n",
      "\n",
      "       VCH  VCD   VCA   GBH  GBD   GBA   BSH   BSD  BSA  \n",
      "997   2.40  3.4   2.9  2.45  3.3   2.7  2.40  3.25  2.7  \n",
      "998   1.80  3.6   4.5  1.75  3.7   4.2  1.80  3.50  4.0  \n",
      "999   1.70  3.7   5.0  1.67  3.6   5.0  1.70  3.50  4.5  \n",
      "1000  1.57  3.9   6.0  1.53  3.9   6.0  1.50  3.80  6.0  \n",
      "1001  1.25  5.5  12.0  1.25  5.5  10.0  1.25  5.50  9.0  \n",
      "\n",
      "[5 rows x 62 columns]\n"
     ]
    }
   ],
   "source": [
    "print(match.head())"
   ]
  },
  {
   "cell_type": "code",
   "execution_count": null,
   "metadata": {},
   "outputs": [],
   "source": []
  }
 ],
 "metadata": {
  "kernelspec": {
   "display_name": "Python 3",
   "language": "python",
   "name": "python3"
  },
  "language_info": {
   "codemirror_mode": {
    "name": "ipython",
    "version": 3
   },
   "file_extension": ".py",
   "mimetype": "text/x-python",
   "name": "python",
   "nbconvert_exporter": "python",
   "pygments_lexer": "ipython3",
   "version": "3.11.2"
  }
 },
 "nbformat": 4,
 "nbformat_minor": 2
}
